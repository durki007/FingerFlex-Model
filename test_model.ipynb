{
 "cells": [
  {
   "cell_type": "code",
   "execution_count": 1,
   "metadata": {},
   "outputs": [
    {
     "name": "stderr",
     "output_type": "stream",
     "text": [
      "c:\\Users\\micha\\AppData\\Local\\Programs\\Python\\Python311\\Lib\\site-packages\\lightning_fabric\\utilities\\cloud_io.py:57: FutureWarning:\n",
      "\n",
      "You are using `torch.load` with `weights_only=False` (the current default value), which uses the default pickle module implicitly. It is possible to construct malicious pickle data which will execute arbitrary code during unpickling (See https://github.com/pytorch/pytorch/blob/main/SECURITY.md#untrusted-models for more details). In a future release, the default value for `weights_only` will be flipped to `True`. This limits the functions that could be executed during unpickling. Arbitrary objects will no longer be allowed to be loaded via this mode unless they are explicitly allowlisted by the user via `torch.serialization.add_safe_globals`. We recommend you start setting `weights_only=True` for any use case where you don't have full control of the loaded file. Please open an issue on GitHub for any issues related to this experimental feature.\n",
      "\n"
     ]
    }
   ],
   "source": [
    "from src.models import BaseEcogFingerflexModel, AutoEncoder1D \n",
    "from src.tools import TestCallback\n",
    "\n",
    "model_to_test = \"G:\\FingerFlex-Model\\checkpoints\\model-epoch=16-corr_mean_val=0.6680787205696106.ckpt\"\n",
    "hp_autoencoder = dict(\n",
    "    channels=[32, 32, 64, 64, 128, 128],\n",
    "    kernel_sizes=[7, 7, 5, 5, 5],\n",
    "    strides=[2, 2, 2, 2, 2],\n",
    "    dilation=[1, 1, 1, 1, 1],\n",
    "    n_electrodes=62,\n",
    "    n_freqs=40,\n",
    "    n_channels_out=5\n",
    ")\n",
    "\n",
    "trained_model = BaseEcogFingerflexModel.load_from_checkpoint(\n",
    "    checkpoint_path=model_to_test,\n",
    "    model=AutoEncoder1D(**hp_autoencoder))"
   ]
  },
  {
   "cell_type": "code",
   "execution_count": 13,
   "metadata": {},
   "outputs": [
    {
     "name": "stdout",
     "output_type": "stream",
     "text": [
      "Model size: 20883616\n",
      "model size: 20883616 / bit | 2.61 / MB\n",
      "Float count: 652613\n",
      "Int count: 0\n"
     ]
    }
   ],
   "source": [
    "import torch\n",
    "\n",
    "raw_model = trained_model.model\n",
    "size = 0\n",
    "float_count = 0\n",
    "not_float_count = 0\n",
    "tensor_count = 0\n",
    "\n",
    "for param in raw_model.parameters():\n",
    "    if param.is_floating_point():\n",
    "        size += param.nelement() * torch.finfo(param.dtype).bits\n",
    "        float_count += param.nelement()\n",
    "        tensor_count += 1\n",
    "    else:\n",
    "        size += param.nelement() * torch.iinfo(param.dtype).bits\n",
    "        not_float_count += param.nelement()\n",
    "    \n",
    "print(f\"Model size: {size}\")\n",
    "print(f\"model size: {size} / bit | {size / 8e6:.2f} / MB\")\n",
    "print(f\"Float count: {float_count}\")\n",
    "print(f\"Int count: {not_float_count}\")"
   ]
  },
  {
   "cell_type": "code",
   "execution_count": 14,
   "metadata": {},
   "outputs": [
    {
     "data": {
      "text/plain": [
       "0.652613"
      ]
     },
     "execution_count": 14,
     "metadata": {},
     "output_type": "execute_result"
    }
   ],
   "source": [
    "tmp = float_count * 32\n",
    "tmp /= 4\n",
    "tmp /= 8e6\n",
    "tmp"
   ]
  },
  {
   "cell_type": "code",
   "execution_count": 15,
   "metadata": {},
   "outputs": [
    {
     "data": {
      "text/plain": [
       "35"
      ]
     },
     "execution_count": 15,
     "metadata": {},
     "output_type": "execute_result"
    }
   ],
   "source": [
    "tensor_count"
   ]
  }
 ],
 "metadata": {
  "kernelspec": {
   "display_name": "Python 3",
   "language": "python",
   "name": "python3"
  },
  "language_info": {
   "codemirror_mode": {
    "name": "ipython",
    "version": 3
   },
   "file_extension": ".py",
   "mimetype": "text/x-python",
   "name": "python",
   "nbconvert_exporter": "python",
   "pygments_lexer": "ipython3",
   "version": "3.11.9"
  }
 },
 "nbformat": 4,
 "nbformat_minor": 2
}
