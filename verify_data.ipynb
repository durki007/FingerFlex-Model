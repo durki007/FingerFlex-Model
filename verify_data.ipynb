{
 "cells": [
  {
   "cell_type": "code",
   "execution_count": 2,
   "metadata": {},
   "outputs": [],
   "source": [
    "import numpy as np\n",
    "import plotly.express as px\n",
    "import pathlib\n",
    "\n",
    "def load_data(ecog_data_path, fingerflex_data_path):\n",
    "    \"\"\"\n",
    "    Data loading\n",
    "    :param ecog_data_path: ECoG spectrogramm path\n",
    "    :param fingerflex_data_path: Finger motion records path\n",
    "    :return:\n",
    "    \"\"\"\n",
    "    ecog_data = np.load(ecog_data_path)\n",
    "    fingerflex_data = np.load(fingerflex_data_path)\n",
    "    return ecog_data, fingerflex_data\n",
    "\n",
    "\n",
    "SAVE_PATH = f\"{pathlib.Path().resolve()}/data/preprocessed\""
   ]
  },
  {
   "cell_type": "code",
   "execution_count": 3,
   "metadata": {},
   "outputs": [],
   "source": [
    "import scipy.io\n",
    "\n",
    "RAW_DATA_PATH = f\"{pathlib.Path().resolve()}/data/raw/BCI_Competion4_dataset4_data_fingerflexions\"\n",
    "\n",
    "def load_raw_data(number: int):\n",
    "    comp_data = scipy.io.loadmat(f\"{RAW_DATA_PATH}/sub{number}_comp.mat\")\n",
    "    labels = scipy.io.loadmat(f\"{RAW_DATA_PATH}/sub{number}_testlabels.mat\")\n",
    "    print(f\"train_data {comp_data['train_data'].shape}\")\n",
    "    print(f\"train_dg {comp_data['train_dg'].shape}\")\n",
    "    print(f\"test_data {comp_data['test_data'].shape}\")\n",
    "    return comp_data, labels"
   ]
  },
  {
   "cell_type": "code",
   "execution_count": 4,
   "metadata": {},
   "outputs": [
    {
     "name": "stdout",
     "output_type": "stream",
     "text": [
      "train_data (400000, 62)\n",
      "train_dg (400000, 5)\n",
      "test_data (200000, 62)\n",
      "train_data (400000, 48)\n",
      "train_dg (400000, 5)\n",
      "test_data (200000, 48)\n",
      "train_data (400000, 64)\n",
      "train_dg (400000, 5)\n",
      "test_data (200000, 64)\n"
     ]
    },
    {
     "data": {
      "text/plain": [
       "({'__header__': b'MATLAB 5.0 MAT-file, Platform: GLNXA64, Created on: Wed Jul 23 16:49:39 2008',\n",
       "  '__version__': '1.0',\n",
       "  '__globals__': [],\n",
       "  'train_data': array([[ 1392,  2132,  1811, ...,  -705,   -15, -1290],\n",
       "         [  842,  1850,  1461, ...,  -897,  -385, -1558],\n",
       "         [  582,  1912,  1505, ...,  -549,  -391, -1414],\n",
       "         ...,\n",
       "         [  309,  2077,   492, ...,   402,   852,  1240],\n",
       "         [   45,  1931,   415, ...,   336,   642,   950],\n",
       "         [   68,  2157,   558, ...,   712,   741,  1208]], dtype=int16),\n",
       "  'test_data': array([[  167,  2488,   751, ...,  1254,   892,  1689],\n",
       "         [ -133,  2371,   532, ...,  1241,   486,  1683],\n",
       "         [ -714,  1957,    23, ...,   789,  -332,  1241],\n",
       "         ...,\n",
       "         [ -311,  1045, -1718, ..., -3047,   888,   981],\n",
       "         [ -487,  1020, -1896, ..., -3125,   862,   941],\n",
       "         [ -600,   913, -1980, ..., -3232,   812,   984]]),\n",
       "  'train_dg': array([[-0.41384039, -0.76443916, -2.61538669, -1.89710032, -0.54750119],\n",
       "         [-0.41384039, -0.76443916, -2.61538669, -1.89710032, -0.54750119],\n",
       "         [-0.41384039, -0.76443916, -2.61538669, -1.89710032, -0.54750119],\n",
       "         ...,\n",
       "         [-0.178245  ,  0.22336148, -0.25495768, -0.25018584,  0.02674079],\n",
       "         [-0.178245  ,  0.22336148, -0.25495768, -0.25018584,  0.02674079],\n",
       "         [-0.178245  ,  0.22336148, -0.25495768, -0.25018584,  0.02674079]])},\n",
       " {'__header__': b'MATLAB 5.0 MAT-file, Platform: MACI, Created on: Fri Feb 27 08:47:50 2009',\n",
       "  '__version__': '1.0',\n",
       "  '__globals__': [],\n",
       "  'test_dg': array([[-0.12805356,  0.3637147 , -0.18811276,  0.03732948,  0.35317434],\n",
       "         [-0.1276977 ,  0.36652553, -0.18682295,  0.04359146,  0.36191738],\n",
       "         [-0.12733838,  0.36938627, -0.18551536,  0.04996717,  0.37087595],\n",
       "         ...,\n",
       "         [ 0.14511136, -0.25757709,  0.04359145,  0.54176314,  0.16979391],\n",
       "         [ 0.14306234, -0.25260559,  0.04426153,  0.53765567,  0.16923006],\n",
       "         [ 0.14100457, -0.24766883,  0.04488003,  0.53337519,  0.16858492]])})"
      ]
     },
     "execution_count": 4,
     "metadata": {},
     "output_type": "execute_result"
    }
   ],
   "source": [
    "load_raw_data(1)\n",
    "load_raw_data(2)\n",
    "load_raw_data(3)"
   ]
  },
  {
   "cell_type": "code",
   "execution_count": 3,
   "metadata": {},
   "outputs": [
    {
     "name": "stdout",
     "output_type": "stream",
     "text": [
      "ECOG data shape: (62, 40, 39980)\n",
      "Fingerflex data shape: (5, 39980)\n"
     ]
    }
   ],
   "source": [
    "ecog_data, fingerflex_data = load_data(f\"{SAVE_PATH}/train/ecog_data.npy\", f\"{SAVE_PATH}/train/fingerflex_data.npy\")\n",
    "print(f\"ECOG data shape: {ecog_data.shape}\")\n",
    "print(f\"Fingerflex data shape: {fingerflex_data.shape}\")"
   ]
  }
 ],
 "metadata": {
  "kernelspec": {
   "display_name": "Python 3",
   "language": "python",
   "name": "python3"
  },
  "language_info": {
   "codemirror_mode": {
    "name": "ipython",
    "version": 3
   },
   "file_extension": ".py",
   "mimetype": "text/x-python",
   "name": "python",
   "nbconvert_exporter": "python",
   "pygments_lexer": "ipython3",
   "version": "3.11.9"
  }
 },
 "nbformat": 4,
 "nbformat_minor": 2
}
